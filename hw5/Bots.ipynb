{
 "cells": [
  {
   "cell_type": "code",
   "execution_count": 4,
   "id": "02a3a8fd-3c38-4ad7-9560-1f243a0a4922",
   "metadata": {},
   "outputs": [],
   "source": [
    "import pandas as pd\n",
    "#import numpy\n",
    "#import matplotlib\n",
    "#import Sklearn"
   ]
  },
  {
   "cell_type": "code",
   "execution_count": null,
   "id": "f56cd808-04ae-401c-893d-642bc3e90251",
   "metadata": {},
   "outputs": [],
   "source": []
  },
  {
   "cell_type": "code",
   "execution_count": null,
   "id": "2c92490c-f49f-4105-be70-a57f93f9bddc",
   "metadata": {},
   "outputs": [],
   "source": []
  },
  {
   "cell_type": "code",
   "execution_count": null,
   "id": "da607dfc-91ab-4955-b98a-e08663babff4",
   "metadata": {},
   "outputs": [],
   "source": []
  }
 ],
 "metadata": {
  "kernelspec": {
   "display_name": "Python 3 (ipykernel)",
   "language": "python",
   "name": "python3"
  },
  "language_info": {
   "codemirror_mode": {
    "name": "ipython",
    "version": 3
   },
   "file_extension": ".py",
   "mimetype": "text/x-python",
   "name": "python",
   "nbconvert_exporter": "python",
   "pygments_lexer": "ipython3",
   "version": "3.11.6"
  }
 },
 "nbformat": 4,
 "nbformat_minor": 5
}
